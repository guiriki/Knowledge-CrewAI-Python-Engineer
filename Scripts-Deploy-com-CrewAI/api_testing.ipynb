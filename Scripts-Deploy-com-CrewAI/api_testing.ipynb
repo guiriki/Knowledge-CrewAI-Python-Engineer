{
 "cells": [
  {
   "cell_type": "code",
   "execution_count": 2,
   "metadata": {},
   "outputs": [],
   "source": [
    "import requests\n",
    "\n",
    "url = \"https://crew-for-deply-7fb406fe-5558-4f49-9a53-7cf3-47c034f1.crewai.com\"\n",
    "\n",
    "token = \"90e7968cb875\"\n",
    "headers = {\n",
    "    \"Authorization\": f\"Bearer {token}\",\n",
    "    \"Content-Type\": \"application/json\"\n",
    "}\n"
   ]
  },
  {
   "cell_type": "markdown",
   "metadata": {},
   "source": [
    "## Verificando o status da API"
   ]
  },
  {
   "cell_type": "code",
   "execution_count": 9,
   "metadata": {},
   "outputs": [
    {
     "name": "stdout",
     "output_type": "stream",
     "text": [
      "Healthy\n"
     ]
    }
   ],
   "source": [
    "response = requests.get(url, headers=headers)\n",
    "if response.status_code == 200:\n",
    "    print(response.text)\n",
    "else:\n",
    "    print(f'Erro: {response.status_code}')"
   ]
  },
  {
   "cell_type": "markdown",
   "metadata": {},
   "source": [
    "## Verificando inputs"
   ]
  },
  {
   "cell_type": "code",
   "execution_count": 10,
   "metadata": {},
   "outputs": [
    {
     "name": "stdout",
     "output_type": "stream",
     "text": [
      "{'inputs': ['topic', 'current_year']}\n"
     ]
    }
   ],
   "source": [
    "response = requests.get(f'{url}/inputs', headers=headers)\n",
    "if response.status_code == 200:\n",
    "    print(response.json())\n",
    "else:\n",
    "    print(f'Erro: {response.status_code}')"
   ]
  },
  {
   "cell_type": "markdown",
   "metadata": {},
   "source": [
    "## Rodando a API"
   ]
  },
  {
   "cell_type": "code",
   "execution_count": 11,
   "metadata": {},
   "outputs": [
    {
     "name": "stdout",
     "output_type": "stream",
     "text": [
      "{'kickoff_id': '579d6d03-2b4d-4230-b716-cbcd5273615f'}\n"
     ]
    }
   ],
   "source": [
    "body = {'inputs': {'topic': 'CrewAI', 'current_year': 2025}}\n",
    "response = requests.post(f'{url}/kickoff', headers=headers, json=body)\n",
    "if response.status_code == 200:\n",
    "    print(response.json())\n",
    "else:\n",
    "    print(f'Erro: {response.status_code}')"
   ]
  },
  {
   "cell_type": "markdown",
   "metadata": {},
   "source": [
    "## Verificando status da chamada"
   ]
  },
  {
   "cell_type": "code",
   "execution_count": 12,
   "metadata": {},
   "outputs": [
    {
     "name": "stdout",
     "output_type": "stream",
     "text": [
      "{'state': 'SUCCESS', 'status': None, 'result': \"# Comprehensive Report on CrewAI Developments\\n\\n## 1. Launch of CrewAI 3.0 (2025)\\nThe recent launch of CrewAI 3.0 marks a significant milestone in crew management technology. This version introduces enhanced machine learning algorithms that not only improve crew management efficiency but also optimize resource allocation through predictive analysis. The advanced algorithms analyze historical data and trends, allowing project managers to anticipate crew demands and allocate resources proactively. This leads to reduced downtime, increased productivity, and a more streamlined operation. Industry experts anticipate that CrewAI 3.0 will set a new benchmark for efficiency in crew management.\\n\\n## 2. Integration with Blockchain Technology\\nIn an effort to enhance transparency and accountability, CrewAI has begun integrating blockchain technology into its platform. This integration provides a tamper-proof record-keeping system for all crew activities and certifications. The immutability of blockchain ensures that records are securely stored and can be verified easily by stakeholders, thereby reducing the risk of fraud and errors. This initiative has significantly boosted trust among clients, regulatory bodies, and employees, providing a secure environment that fosters compliance with industry standards.\\n\\n## 3. AI-Powered Decision Support Systems\\nThe advanced AI capabilities of CrewAI offer an invaluable decision-support system for project managers. With real-time data analysis, the system provides insightful recommendations that help in prompt problem-solving during crew operations. This feature allows managers to identify challenges, such as crew shortages or skill gaps, and act swiftly to mitigate risks. By improving decision-making processes, the platform enhances operational outcomes and ensures that projects remain on schedule and within budget.\\n\\n## 4. Sustainability Initiatives\\nAligning with the increasing focus on environmental accountability, CrewAI has introduced features aimed at reducing the carbon footprint related to crew operations. These features allow companies to monitor their sustainability metrics, helping them to track emissions and implement strategies for reduction. As industry regulations intensify, this initiative positions CrewAI as a forward-thinking solution provider committed to sustainability, allowing companies to meet and exceed compliance requirements while maintaining operational efficiency.\\n\\n## 5. Enhanced Remote Workforce Management\\nThe global shift towards remote working environments has necessitated the development of technologies that facilitate effective management of remote crews. CrewAI's newly rolled-out tools enable seamless communication and project tracking, regardless of the crew's location. Features such as real-time updates, virtual check-ins, and collaborative project management tools empower teams to work efficiently, reducing the potential for miscommunication and enhancing overall productivity. This adaptability is crucial in maintaining operational integrity in diverse working conditions.\\n\\n## 6. Cross-Industry Applicability\\nOriginally tailored for the maritime sector, CrewAI has extended its functionalities to other industries such as aerospace and construction. This strategic expansion allows CrewAI to address the unique challenges and complexities of crew management across various sectors. By providing specialized solutions that cater to the nuanced requirements of each industry, CrewAI is establishing itself as a versatile leader in crew management technology.\\n\\n## 7. User-Friendly Interface\\nUser experience is a critical aspect of any software application, and CrewAI 3.0 has undergone a significant redesign of its user interface (UI). The new UI offers intuitive navigation that simplifies the user journey for both managers and crew members. Enhanced usability is expected to lead to increased engagement with the platform and, subsequently, improved data management and communication within crews. This focus on user experience reflects CrewAI’s commitment to creating an effective and efficient environment for all users.\\n\\n## 8. AI-Driven Training Modules\\nCrewAI has developed AI-driven virtual training modules aimed at enhancing crew skills and safety. By utilizing adaptive learning methodologies, these modules cater to the individual needs of crew members, ensuring personalized skill development. These training systems are designed to improve operational efficiency and increase safety awareness, ultimately leading to a more competent workforce. The integration of advanced training solutions aligns with the company’s goal of fostering a culture of continuous improvement in crew capabilities.\\n\\n## 9. Data Security Enhancements\\nIn light of increasing cyber threats, CrewAI has prioritized data security with significant upgrades to its security protocols. Advanced cryptographic measures and multi-factor authentication have been implemented to ensure protection of sensitive crew data. These enhancements not only safeguard against unauthorized access but also comply with industry standards for data protection. CrewAI's commitment to security is crucial in maintaining user confidence and protecting the integrity of operational data.\\n\\n## 10. Collaboration with Industry Leaders\\nTo remain at the forefront of technological advancements, CrewAI has established partnerships with industry leaders and academic institutions. These collaborations foster innovation and enable the integration of emerging technologies into CrewAI’s platform. By leveraging external expertise, CrewAI can continuously enhance its offerings, address evolving industry challenges, and deliver cutting-edge solutions that meet the demands of modern crew management.\\n\\nIn conclusion, the developments within CrewAI represent a forward-thinking approach to crew management, positioning the company as a leader in innovation and efficiency. The integration of advanced technologies while maintaining a focus on user experience and sustainability exemplifies a comprehensive commitment to evolving the future of crew management across industries.\", 'last_step': {'prompt': \"I now can give a great answer  \\nFinal Answer:  \\n\\n# Comprehensive Report on CrewAI Developments\\n\\n## 1. Launch of CrewAI 3.0 (2025)\\nThe recent launch of CrewAI 3.0 marks a significant milestone in crew management technology. This version introduces enhanced machine learning algorithms that not only improve crew management efficiency but also optimize resource allocation through predictive analysis. The advanced algorithms analyze historical data and trends, allowing project managers to anticipate crew demands and allocate resources proactively. This leads to reduced downtime, increased productivity, and a more streamlined operation. Industry experts anticipate that CrewAI 3.0 will set a new benchmark for efficiency in crew management.\\n\\n## 2. Integration with Blockchain Technology\\nIn an effort to enhance transparency and accountability, CrewAI has begun integrating blockchain technology into its platform. This integration provides a tamper-proof record-keeping system for all crew activities and certifications. The immutability of blockchain ensures that records are securely stored and can be verified easily by stakeholders, thereby reducing the risk of fraud and errors. This initiative has significantly boosted trust among clients, regulatory bodies, and employees, providing a secure environment that fosters compliance with industry standards.\\n\\n## 3. AI-Powered Decision Support Systems\\nThe advanced AI capabilities of CrewAI offer an invaluable decision-support system for project managers. With real-time data analysis, the system provides insightful recommendations that help in prompt problem-solving during crew operations. This feature allows managers to identify challenges, such as crew shortages or skill gaps, and act swiftly to mitigate risks. By improving decision-making processes, the platform enhances operational outcomes and ensures that projects remain on schedule and within budget.\\n\\n## 4. Sustainability Initiatives\\nAligning with the increasing focus on environmental accountability, CrewAI has introduced features aimed at reducing the carbon footprint related to crew operations. These features allow companies to monitor their sustainability metrics, helping them to track emissions and implement strategies for reduction. As industry regulations intensify, this initiative positions CrewAI as a forward-thinking solution provider committed to sustainability, allowing companies to meet and exceed compliance requirements while maintaining operational efficiency.\\n\\n## 5. Enhanced Remote Workforce Management\\nThe global shift towards remote working environments has necessitated the development of technologies that facilitate effective management of remote crews. CrewAI's newly rolled-out tools enable seamless communication and project tracking, regardless of the crew's location. Features such as real-time updates, virtual check-ins, and collaborative project management tools empower teams to work efficiently, reducing the potential for miscommunication and enhancing overall productivity. This adaptability is crucial in maintaining operational integrity in diverse working conditions.\\n\\n## 6. Cross-Industry Applicability\\nOriginally tailored for the maritime sector, CrewAI has extended its functionalities to other industries such as aerospace and construction. This strategic expansion allows CrewAI to address the unique challenges and complexities of crew management across various sectors. By providing specialized solutions that cater to the nuanced requirements of each industry, CrewAI is establishing itself as a versatile leader in crew management technology.\\n\\n## 7. User-Friendly Interface\\nUser experience is a critical aspect of any software application, and CrewAI 3.0 has undergone a significant redesign of its user interface (UI). The new UI offers intuitive navigation that simplifies the user journey for both managers and crew members. Enhanced usability is expected to lead to increased engagement with the platform and, subsequently, improved data management and communication within crews. This focus on user experience reflects CrewAI’s commitment to creating an effective and efficient environment for all users.\\n\\n## 8. AI-Driven Training Modules\\nCrewAI has developed AI-driven virtual training modules aimed at enhancing crew skills and safety. By utilizing adaptive learning methodologies, these modules cater to the individual needs of crew members, ensuring personalized skill development. These training systems are designed to improve operational efficiency and increase safety awareness, ultimately leading to a more competent workforce. The integration of advanced training solutions aligns with the company’s goal of fostering a culture of continuous improvement in crew capabilities.\\n\\n## 9. Data Security Enhancements\\nIn light of increasing cyber threats, CrewAI has prioritized data security with significant upgrades to its security protocols. Advanced cryptographic measures and multi-factor authentication have been implemented to ensure protection of sensitive crew data. These enhancements not only safeguard against unauthorized access but also comply with industry standards for data protection. CrewAI's commitment to security is crucial in maintaining user confidence and protecting the integrity of operational data.\\n\\n## 10. Collaboration with Industry Leaders\\nTo remain at the forefront of technological advancements, CrewAI has established partnerships with industry leaders and academic institutions. These collaborations foster innovation and enable the integration of emerging technologies into CrewAI’s platform. By leveraging external expertise, CrewAI can continuously enhance its offerings, address evolving industry challenges, and deliver cutting-edge solutions that meet the demands of modern crew management.\\n\\nIn conclusion, the developments within CrewAI represent a forward-thinking approach to crew management, positioning the company as a leader in innovation and efficiency. The integration of advanced technologies while maintaining a focus on user experience and sustainability exemplifies a comprehensive commitment to evolving the future of crew management across industries.\", 'thought': '', 'tool': '', 'tool_input': '', 'result': '', 'kickoff_id': '579d6d03-2b4d-4230-b716-cbcd5273615f', 'meta': {}}, 'last_executed_task': {'description': 'Review the context you got and expand each topic into a full section for a report. Make sure the report is detailed and contains any and all relevant information.\\n', 'name': 'reporting_task', 'expected_output': \"A fully fledged report with the main topics, each with a full section of information. Formatted as markdown without '```'\\n\", 'summary': 'Review the context you got and expand each topic into...', 'agent': 'CrewAI Reporting Analyst\\n', 'output': \"# Comprehensive Report on CrewAI Developments\\n\\n## 1. Launch of CrewAI 3.0 (2025)\\nThe recent launch of CrewAI 3.0 marks a significant milestone in crew management technology. This version introduces enhanced machine learning algorithms that not only improve crew management efficiency but also optimize resource allocation through predictive analysis. The advanced algorithms analyze historical data and trends, allowing project managers to anticipate crew demands and allocate resources proactively. This leads to reduced downtime, increased productivity, and a more streamlined operation. Industry experts anticipate that CrewAI 3.0 will set a new benchmark for efficiency in crew management.\\n\\n## 2. Integration with Blockchain Technology\\nIn an effort to enhance transparency and accountability, CrewAI has begun integrating blockchain technology into its platform. This integration provides a tamper-proof record-keeping system for all crew activities and certifications. The immutability of blockchain ensures that records are securely stored and can be verified easily by stakeholders, thereby reducing the risk of fraud and errors. This initiative has significantly boosted trust among clients, regulatory bodies, and employees, providing a secure environment that fosters compliance with industry standards.\\n\\n## 3. AI-Powered Decision Support Systems\\nThe advanced AI capabilities of CrewAI offer an invaluable decision-support system for project managers. With real-time data analysis, the system provides insightful recommendations that help in prompt problem-solving during crew operations. This feature allows managers to identify challenges, such as crew shortages or skill gaps, and act swiftly to mitigate risks. By improving decision-making processes, the platform enhances operational outcomes and ensures that projects remain on schedule and within budget.\\n\\n## 4. Sustainability Initiatives\\nAligning with the increasing focus on environmental accountability, CrewAI has introduced features aimed at reducing the carbon footprint related to crew operations. These features allow companies to monitor their sustainability metrics, helping them to track emissions and implement strategies for reduction. As industry regulations intensify, this initiative positions CrewAI as a forward-thinking solution provider committed to sustainability, allowing companies to meet and exceed compliance requirements while maintaining operational efficiency.\\n\\n## 5. Enhanced Remote Workforce Management\\nThe global shift towards remote working environments has necessitated the development of technologies that facilitate effective management of remote crews. CrewAI's newly rolled-out tools enable seamless communication and project tracking, regardless of the crew's location. Features such as real-time updates, virtual check-ins, and collaborative project management tools empower teams to work efficiently, reducing the potential for miscommunication and enhancing overall productivity. This adaptability is crucial in maintaining operational integrity in diverse working conditions.\\n\\n## 6. Cross-Industry Applicability\\nOriginally tailored for the maritime sector, CrewAI has extended its functionalities to other industries such as aerospace and construction. This strategic expansion allows CrewAI to address the unique challenges and complexities of crew management across various sectors. By providing specialized solutions that cater to the nuanced requirements of each industry, CrewAI is establishing itself as a versatile leader in crew management technology.\\n\\n## 7. User-Friendly Interface\\nUser experience is a critical aspect of any software application, and CrewAI 3.0 has undergone a significant redesign of its user interface (UI). The new UI offers intuitive navigation that simplifies the user journey for both managers and crew members. Enhanced usability is expected to lead to increased engagement with the platform and, subsequently, improved data management and communication within crews. This focus on user experience reflects CrewAI’s commitment to creating an effective and efficient environment for all users.\\n\\n## 8. AI-Driven Training Modules\\nCrewAI has developed AI-driven virtual training modules aimed at enhancing crew skills and safety. By utilizing adaptive learning methodologies, these modules cater to the individual needs of crew members, ensuring personalized skill development. These training systems are designed to improve operational efficiency and increase safety awareness, ultimately leading to a more competent workforce. The integration of advanced training solutions aligns with the company’s goal of fostering a culture of continuous improvement in crew capabilities.\\n\\n## 9. Data Security Enhancements\\nIn light of increasing cyber threats, CrewAI has prioritized data security with significant upgrades to its security protocols. Advanced cryptographic measures and multi-factor authentication have been implemented to ensure protection of sensitive crew data. These enhancements not only safeguard against unauthorized access but also comply with industry standards for data protection. CrewAI's commitment to security is crucial in maintaining user confidence and protecting the integrity of operational data.\\n\\n## 10. Collaboration with Industry Leaders\\nTo remain at the forefront of technological advancements, CrewAI has established partnerships with industry leaders and academic institutions. These collaborations foster innovation and enable the integration of emerging technologies into CrewAI’s platform. By leveraging external expertise, CrewAI can continuously enhance its offerings, address evolving industry challenges, and deliver cutting-edge solutions that meet the demands of modern crew management.\\n\\nIn conclusion, the developments within CrewAI represent a forward-thinking approach to crew management, positioning the company as a leader in innovation and efficiency. The integration of advanced technologies while maintaining a focus on user experience and sustainability exemplifies a comprehensive commitment to evolving the future of crew management across industries.\", 'output_json': None, 'kickoff_id': '579d6d03-2b4d-4230-b716-cbcd5273615f', 'meta': {}}}\n"
     ]
    }
   ],
   "source": [
    "kickoff_id = '579d6d03-2b4d-4230-b716-cbcd5273615f'\n",
    "response = requests.get(f'{url}/status/{kickoff_id}', headers=headers)\n",
    "if response.status_code == 200:\n",
    "    print(response.json())\n",
    "else:\n",
    "    print(f'Erro: {response.status_code}')"
   ]
  },
  {
   "cell_type": "code",
   "execution_count": 13,
   "metadata": {},
   "outputs": [],
   "source": [
    "result = response.json()['result']"
   ]
  },
  {
   "cell_type": "code",
   "execution_count": 14,
   "metadata": {},
   "outputs": [
    {
     "name": "stdout",
     "output_type": "stream",
     "text": [
      "# Comprehensive Report on CrewAI Developments\n",
      "\n",
      "## 1. Launch of CrewAI 3.0 (2025)\n",
      "The recent launch of CrewAI 3.0 marks a significant milestone in crew management technology. This version introduces enhanced machine learning algorithms that not only improve crew management efficiency but also optimize resource allocation through predictive analysis. The advanced algorithms analyze historical data and trends, allowing project managers to anticipate crew demands and allocate resources proactively. This leads to reduced downtime, increased productivity, and a more streamlined operation. Industry experts anticipate that CrewAI 3.0 will set a new benchmark for efficiency in crew management.\n",
      "\n",
      "## 2. Integration with Blockchain Technology\n",
      "In an effort to enhance transparency and accountability, CrewAI has begun integrating blockchain technology into its platform. This integration provides a tamper-proof record-keeping system for all crew activities and certifications. The immutability of blockchain ensures that records are securely stored and can be verified easily by stakeholders, thereby reducing the risk of fraud and errors. This initiative has significantly boosted trust among clients, regulatory bodies, and employees, providing a secure environment that fosters compliance with industry standards.\n",
      "\n",
      "## 3. AI-Powered Decision Support Systems\n",
      "The advanced AI capabilities of CrewAI offer an invaluable decision-support system for project managers. With real-time data analysis, the system provides insightful recommendations that help in prompt problem-solving during crew operations. This feature allows managers to identify challenges, such as crew shortages or skill gaps, and act swiftly to mitigate risks. By improving decision-making processes, the platform enhances operational outcomes and ensures that projects remain on schedule and within budget.\n",
      "\n",
      "## 4. Sustainability Initiatives\n",
      "Aligning with the increasing focus on environmental accountability, CrewAI has introduced features aimed at reducing the carbon footprint related to crew operations. These features allow companies to monitor their sustainability metrics, helping them to track emissions and implement strategies for reduction. As industry regulations intensify, this initiative positions CrewAI as a forward-thinking solution provider committed to sustainability, allowing companies to meet and exceed compliance requirements while maintaining operational efficiency.\n",
      "\n",
      "## 5. Enhanced Remote Workforce Management\n",
      "The global shift towards remote working environments has necessitated the development of technologies that facilitate effective management of remote crews. CrewAI's newly rolled-out tools enable seamless communication and project tracking, regardless of the crew's location. Features such as real-time updates, virtual check-ins, and collaborative project management tools empower teams to work efficiently, reducing the potential for miscommunication and enhancing overall productivity. This adaptability is crucial in maintaining operational integrity in diverse working conditions.\n",
      "\n",
      "## 6. Cross-Industry Applicability\n",
      "Originally tailored for the maritime sector, CrewAI has extended its functionalities to other industries such as aerospace and construction. This strategic expansion allows CrewAI to address the unique challenges and complexities of crew management across various sectors. By providing specialized solutions that cater to the nuanced requirements of each industry, CrewAI is establishing itself as a versatile leader in crew management technology.\n",
      "\n",
      "## 7. User-Friendly Interface\n",
      "User experience is a critical aspect of any software application, and CrewAI 3.0 has undergone a significant redesign of its user interface (UI). The new UI offers intuitive navigation that simplifies the user journey for both managers and crew members. Enhanced usability is expected to lead to increased engagement with the platform and, subsequently, improved data management and communication within crews. This focus on user experience reflects CrewAI’s commitment to creating an effective and efficient environment for all users.\n",
      "\n",
      "## 8. AI-Driven Training Modules\n",
      "CrewAI has developed AI-driven virtual training modules aimed at enhancing crew skills and safety. By utilizing adaptive learning methodologies, these modules cater to the individual needs of crew members, ensuring personalized skill development. These training systems are designed to improve operational efficiency and increase safety awareness, ultimately leading to a more competent workforce. The integration of advanced training solutions aligns with the company’s goal of fostering a culture of continuous improvement in crew capabilities.\n",
      "\n",
      "## 9. Data Security Enhancements\n",
      "In light of increasing cyber threats, CrewAI has prioritized data security with significant upgrades to its security protocols. Advanced cryptographic measures and multi-factor authentication have been implemented to ensure protection of sensitive crew data. These enhancements not only safeguard against unauthorized access but also comply with industry standards for data protection. CrewAI's commitment to security is crucial in maintaining user confidence and protecting the integrity of operational data.\n",
      "\n",
      "## 10. Collaboration with Industry Leaders\n",
      "To remain at the forefront of technological advancements, CrewAI has established partnerships with industry leaders and academic institutions. These collaborations foster innovation and enable the integration of emerging technologies into CrewAI’s platform. By leveraging external expertise, CrewAI can continuously enhance its offerings, address evolving industry challenges, and deliver cutting-edge solutions that meet the demands of modern crew management.\n",
      "\n",
      "In conclusion, the developments within CrewAI represent a forward-thinking approach to crew management, positioning the company as a leader in innovation and efficiency. The integration of advanced technologies while maintaining a focus on user experience and sustainability exemplifies a comprehensive commitment to evolving the future of crew management across industries.\n"
     ]
    }
   ],
   "source": [
    "print(result)"
   ]
  },
  {
   "cell_type": "code",
   "execution_count": null,
   "metadata": {},
   "outputs": [],
   "source": []
  }
 ],
 "metadata": {
  "kernelspec": {
   "display_name": ".venv",
   "language": "python",
   "name": "python3"
  },
  "language_info": {
   "codemirror_mode": {
    "name": "ipython",
    "version": 3
   },
   "file_extension": ".py",
   "mimetype": "text/x-python",
   "name": "python",
   "nbconvert_exporter": "python",
   "pygments_lexer": "ipython3",
   "version": "3.12.3"
  }
 },
 "nbformat": 4,
 "nbformat_minor": 2
}
